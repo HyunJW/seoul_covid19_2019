{
  "nbformat": 4,
  "nbformat_minor": 0,
  "metadata": {
    "colab": {
      "provenance": []
    },
    "kernelspec": {
      "name": "python3",
      "display_name": "Python 3"
    },
    "language_info": {
      "name": "python"
    }
  },
  "cells": [
    {
      "cell_type": "code",
      "source": [
        "!sudo apt install -y fonts-nanum\n",
        "!sudo fc-cache -fv\n",
        "!rm ~/.cache/matplotlib -rf"
      ],
      "metadata": {
        "id": "N-lU13iHkKTA"
      },
      "execution_count": null,
      "outputs": []
    },
    {
      "cell_type": "code",
      "execution_count": 2,
      "metadata": {
        "id": "nbyY1uWFhuuB"
      },
      "outputs": [],
      "source": [
        "import numpy as np\n",
        "import pandas as pd\n",
        "import matplotlib.pyplot as plt\n",
        "plt.rc('font', family='NanumBarunGothic')"
      ]
    },
    {
      "cell_type": "markdown",
      "source": [
        "# 데이터 불러오기"
      ],
      "metadata": {
        "id": "ZMxiA7lPkULF"
      }
    },
    {
      "cell_type": "code",
      "source": [
        "df = pd.read_csv('/content/서울시 코로나19 확진자 현황.csv', low_memory=False)\n",
        "df.head(3)"
      ],
      "metadata": {
        "colab": {
          "base_uri": "https://localhost:8080/",
          "height": 257
        },
        "id": "c8Xe5-F_kfjt",
        "outputId": "7e6c5605-1b65-47cd-a81c-721813d38e32"
      },
      "execution_count": 9,
      "outputs": [
        {
          "output_type": "execute_result",
          "data": {
            "text/plain": [
              "      연번         확진일  환자번호  국적  환자정보  지역  여행력       접촉력  조치사항 상태 이동경로  \\\n",
              "0  99550  2021-09-28   NaN NaN   NaN  기타  NaN  감염경로 조사중   NaN  -  NaN   \n",
              "1  99549  2021-09-28   NaN NaN   NaN  기타  NaN  감염경로 조사중   NaN  -  NaN   \n",
              "2  99548  2021-09-28   NaN NaN   NaN  기타  NaN  감염경로 조사중   NaN  -  NaN   \n",
              "\n",
              "                등록일               수정일 노출여부  \n",
              "0  2021-09-29 10:54  2021-09-29 10:54    Y  \n",
              "1  2021-09-29 10:54  2021-09-29 10:54    Y  \n",
              "2  2021-09-29 10:54  2021-09-29 10:54    Y  "
            ],
            "text/html": [
              "\n",
              "  <div id=\"df-9e8291b8-7f87-48c2-a4cb-fac2f2198279\">\n",
              "    <div class=\"colab-df-container\">\n",
              "      <div>\n",
              "<style scoped>\n",
              "    .dataframe tbody tr th:only-of-type {\n",
              "        vertical-align: middle;\n",
              "    }\n",
              "\n",
              "    .dataframe tbody tr th {\n",
              "        vertical-align: top;\n",
              "    }\n",
              "\n",
              "    .dataframe thead th {\n",
              "        text-align: right;\n",
              "    }\n",
              "</style>\n",
              "<table border=\"1\" class=\"dataframe\">\n",
              "  <thead>\n",
              "    <tr style=\"text-align: right;\">\n",
              "      <th></th>\n",
              "      <th>연번</th>\n",
              "      <th>확진일</th>\n",
              "      <th>환자번호</th>\n",
              "      <th>국적</th>\n",
              "      <th>환자정보</th>\n",
              "      <th>지역</th>\n",
              "      <th>여행력</th>\n",
              "      <th>접촉력</th>\n",
              "      <th>조치사항</th>\n",
              "      <th>상태</th>\n",
              "      <th>이동경로</th>\n",
              "      <th>등록일</th>\n",
              "      <th>수정일</th>\n",
              "      <th>노출여부</th>\n",
              "    </tr>\n",
              "  </thead>\n",
              "  <tbody>\n",
              "    <tr>\n",
              "      <th>0</th>\n",
              "      <td>99550</td>\n",
              "      <td>2021-09-28</td>\n",
              "      <td>NaN</td>\n",
              "      <td>NaN</td>\n",
              "      <td>NaN</td>\n",
              "      <td>기타</td>\n",
              "      <td>NaN</td>\n",
              "      <td>감염경로 조사중</td>\n",
              "      <td>NaN</td>\n",
              "      <td>-</td>\n",
              "      <td>NaN</td>\n",
              "      <td>2021-09-29 10:54</td>\n",
              "      <td>2021-09-29 10:54</td>\n",
              "      <td>Y</td>\n",
              "    </tr>\n",
              "    <tr>\n",
              "      <th>1</th>\n",
              "      <td>99549</td>\n",
              "      <td>2021-09-28</td>\n",
              "      <td>NaN</td>\n",
              "      <td>NaN</td>\n",
              "      <td>NaN</td>\n",
              "      <td>기타</td>\n",
              "      <td>NaN</td>\n",
              "      <td>감염경로 조사중</td>\n",
              "      <td>NaN</td>\n",
              "      <td>-</td>\n",
              "      <td>NaN</td>\n",
              "      <td>2021-09-29 10:54</td>\n",
              "      <td>2021-09-29 10:54</td>\n",
              "      <td>Y</td>\n",
              "    </tr>\n",
              "    <tr>\n",
              "      <th>2</th>\n",
              "      <td>99548</td>\n",
              "      <td>2021-09-28</td>\n",
              "      <td>NaN</td>\n",
              "      <td>NaN</td>\n",
              "      <td>NaN</td>\n",
              "      <td>기타</td>\n",
              "      <td>NaN</td>\n",
              "      <td>감염경로 조사중</td>\n",
              "      <td>NaN</td>\n",
              "      <td>-</td>\n",
              "      <td>NaN</td>\n",
              "      <td>2021-09-29 10:54</td>\n",
              "      <td>2021-09-29 10:54</td>\n",
              "      <td>Y</td>\n",
              "    </tr>\n",
              "  </tbody>\n",
              "</table>\n",
              "</div>\n",
              "      <button class=\"colab-df-convert\" onclick=\"convertToInteractive('df-9e8291b8-7f87-48c2-a4cb-fac2f2198279')\"\n",
              "              title=\"Convert this dataframe to an interactive table.\"\n",
              "              style=\"display:none;\">\n",
              "        \n",
              "  <svg xmlns=\"http://www.w3.org/2000/svg\" height=\"24px\"viewBox=\"0 0 24 24\"\n",
              "       width=\"24px\">\n",
              "    <path d=\"M0 0h24v24H0V0z\" fill=\"none\"/>\n",
              "    <path d=\"M18.56 5.44l.94 2.06.94-2.06 2.06-.94-2.06-.94-.94-2.06-.94 2.06-2.06.94zm-11 1L8.5 8.5l.94-2.06 2.06-.94-2.06-.94L8.5 2.5l-.94 2.06-2.06.94zm10 10l.94 2.06.94-2.06 2.06-.94-2.06-.94-.94-2.06-.94 2.06-2.06.94z\"/><path d=\"M17.41 7.96l-1.37-1.37c-.4-.4-.92-.59-1.43-.59-.52 0-1.04.2-1.43.59L10.3 9.45l-7.72 7.72c-.78.78-.78 2.05 0 2.83L4 21.41c.39.39.9.59 1.41.59.51 0 1.02-.2 1.41-.59l7.78-7.78 2.81-2.81c.8-.78.8-2.07 0-2.86zM5.41 20L4 18.59l7.72-7.72 1.47 1.35L5.41 20z\"/>\n",
              "  </svg>\n",
              "      </button>\n",
              "      \n",
              "  <style>\n",
              "    .colab-df-container {\n",
              "      display:flex;\n",
              "      flex-wrap:wrap;\n",
              "      gap: 12px;\n",
              "    }\n",
              "\n",
              "    .colab-df-convert {\n",
              "      background-color: #E8F0FE;\n",
              "      border: none;\n",
              "      border-radius: 50%;\n",
              "      cursor: pointer;\n",
              "      display: none;\n",
              "      fill: #1967D2;\n",
              "      height: 32px;\n",
              "      padding: 0 0 0 0;\n",
              "      width: 32px;\n",
              "    }\n",
              "\n",
              "    .colab-df-convert:hover {\n",
              "      background-color: #E2EBFA;\n",
              "      box-shadow: 0px 1px 2px rgba(60, 64, 67, 0.3), 0px 1px 3px 1px rgba(60, 64, 67, 0.15);\n",
              "      fill: #174EA6;\n",
              "    }\n",
              "\n",
              "    [theme=dark] .colab-df-convert {\n",
              "      background-color: #3B4455;\n",
              "      fill: #D2E3FC;\n",
              "    }\n",
              "\n",
              "    [theme=dark] .colab-df-convert:hover {\n",
              "      background-color: #434B5C;\n",
              "      box-shadow: 0px 1px 3px 1px rgba(0, 0, 0, 0.15);\n",
              "      filter: drop-shadow(0px 1px 2px rgba(0, 0, 0, 0.3));\n",
              "      fill: #FFFFFF;\n",
              "    }\n",
              "  </style>\n",
              "\n",
              "      <script>\n",
              "        const buttonEl =\n",
              "          document.querySelector('#df-9e8291b8-7f87-48c2-a4cb-fac2f2198279 button.colab-df-convert');\n",
              "        buttonEl.style.display =\n",
              "          google.colab.kernel.accessAllowed ? 'block' : 'none';\n",
              "\n",
              "        async function convertToInteractive(key) {\n",
              "          const element = document.querySelector('#df-9e8291b8-7f87-48c2-a4cb-fac2f2198279');\n",
              "          const dataTable =\n",
              "            await google.colab.kernel.invokeFunction('convertToInteractive',\n",
              "                                                     [key], {});\n",
              "          if (!dataTable) return;\n",
              "\n",
              "          const docLinkHtml = 'Like what you see? Visit the ' +\n",
              "            '<a target=\"_blank\" href=https://colab.research.google.com/notebooks/data_table.ipynb>data table notebook</a>'\n",
              "            + ' to learn more about interactive tables.';\n",
              "          element.innerHTML = '';\n",
              "          dataTable['output_type'] = 'display_data';\n",
              "          await google.colab.output.renderOutput(dataTable, element);\n",
              "          const docLink = document.createElement('div');\n",
              "          docLink.innerHTML = docLinkHtml;\n",
              "          element.appendChild(docLink);\n",
              "        }\n",
              "      </script>\n",
              "    </div>\n",
              "  </div>\n",
              "  "
            ]
          },
          "metadata": {},
          "execution_count": 9
        }
      ]
    },
    {
      "cell_type": "markdown",
      "source": [
        "# 데이터 확인 및 전처리"
      ],
      "metadata": {
        "id": "Rkr-tPgslF5-"
      }
    },
    {
      "cell_type": "markdown",
      "source": [
        "## column 데이터 확인"
      ],
      "metadata": {
        "id": "PsEKnIw1lJ12"
      }
    },
    {
      "cell_type": "code",
      "source": [
        "df.columns"
      ],
      "metadata": {
        "colab": {
          "base_uri": "https://localhost:8080/"
        },
        "id": "8Ohq63uglSLG",
        "outputId": "667a9728-853a-44fb-c1cc-667e98c891ce"
      },
      "execution_count": 10,
      "outputs": [
        {
          "output_type": "execute_result",
          "data": {
            "text/plain": [
              "Index(['연번', '확진일', '환자번호', '국적', '환자정보', '지역', '여행력', '접촉력', '조치사항', '상태',\n",
              "       '이동경로', '등록일', '수정일', '노출여부'],\n",
              "      dtype='object')"
            ]
          },
          "metadata": {},
          "execution_count": 10
        }
      ]
    },
    {
      "cell_type": "code",
      "source": [
        "df['조치사항'].unique()"
      ],
      "metadata": {
        "colab": {
          "base_uri": "https://localhost:8080/"
        },
        "id": "wvb5jn4rkv0W",
        "outputId": "4a9220ff-c84d-42b3-b3ae-e5b3919aedd4"
      },
      "execution_count": 11,
      "outputs": [
        {
          "output_type": "execute_result",
          "data": {
            "text/plain": [
              "array([nan])"
            ]
          },
          "metadata": {},
          "execution_count": 11
        }
      ]
    },
    {
      "cell_type": "code",
      "source": [
        "df.isnull().sum()"
      ],
      "metadata": {
        "colab": {
          "base_uri": "https://localhost:8080/"
        },
        "id": "88zZmwf_lhsd",
        "outputId": "8c547713-39a1-450b-8197-c894760219f6"
      },
      "execution_count": 12,
      "outputs": [
        {
          "output_type": "execute_result",
          "data": {
            "text/plain": [
              "연번          0\n",
              "확진일         0\n",
              "환자번호    99550\n",
              "국적      99550\n",
              "환자정보    99550\n",
              "지역          0\n",
              "여행력     97833\n",
              "접촉력         0\n",
              "조치사항    99550\n",
              "상태          0\n",
              "이동경로    89550\n",
              "등록일         0\n",
              "수정일         0\n",
              "노출여부        0\n",
              "dtype: int64"
            ]
          },
          "metadata": {},
          "execution_count": 12
        }
      ]
    },
    {
      "cell_type": "markdown",
      "source": [
        "# 불필요한 column 삭제"
      ],
      "metadata": {
        "id": "PJwSS15Gl4s2"
      }
    },
    {
      "cell_type": "code",
      "source": [
        "df.drop(columns = ['환자번호', '국적', '환자정보', '조치사항', '이동경로', '등록일', '수정일', '노출여부'], inplace=True)\n",
        "df.head(2)"
      ],
      "metadata": {
        "colab": {
          "base_uri": "https://localhost:8080/",
          "height": 112
        },
        "id": "jVeBeEDclqXW",
        "outputId": "d608ca75-49a0-4d67-a5a1-a91faa38519b"
      },
      "execution_count": 13,
      "outputs": [
        {
          "output_type": "execute_result",
          "data": {
            "text/plain": [
              "      연번         확진일  지역  여행력       접촉력 상태\n",
              "0  99550  2021-09-28  기타  NaN  감염경로 조사중  -\n",
              "1  99549  2021-09-28  기타  NaN  감염경로 조사중  -"
            ],
            "text/html": [
              "\n",
              "  <div id=\"df-48547484-3d9a-4a5c-a634-056b43c0fd1c\">\n",
              "    <div class=\"colab-df-container\">\n",
              "      <div>\n",
              "<style scoped>\n",
              "    .dataframe tbody tr th:only-of-type {\n",
              "        vertical-align: middle;\n",
              "    }\n",
              "\n",
              "    .dataframe tbody tr th {\n",
              "        vertical-align: top;\n",
              "    }\n",
              "\n",
              "    .dataframe thead th {\n",
              "        text-align: right;\n",
              "    }\n",
              "</style>\n",
              "<table border=\"1\" class=\"dataframe\">\n",
              "  <thead>\n",
              "    <tr style=\"text-align: right;\">\n",
              "      <th></th>\n",
              "      <th>연번</th>\n",
              "      <th>확진일</th>\n",
              "      <th>지역</th>\n",
              "      <th>여행력</th>\n",
              "      <th>접촉력</th>\n",
              "      <th>상태</th>\n",
              "    </tr>\n",
              "  </thead>\n",
              "  <tbody>\n",
              "    <tr>\n",
              "      <th>0</th>\n",
              "      <td>99550</td>\n",
              "      <td>2021-09-28</td>\n",
              "      <td>기타</td>\n",
              "      <td>NaN</td>\n",
              "      <td>감염경로 조사중</td>\n",
              "      <td>-</td>\n",
              "    </tr>\n",
              "    <tr>\n",
              "      <th>1</th>\n",
              "      <td>99549</td>\n",
              "      <td>2021-09-28</td>\n",
              "      <td>기타</td>\n",
              "      <td>NaN</td>\n",
              "      <td>감염경로 조사중</td>\n",
              "      <td>-</td>\n",
              "    </tr>\n",
              "  </tbody>\n",
              "</table>\n",
              "</div>\n",
              "      <button class=\"colab-df-convert\" onclick=\"convertToInteractive('df-48547484-3d9a-4a5c-a634-056b43c0fd1c')\"\n",
              "              title=\"Convert this dataframe to an interactive table.\"\n",
              "              style=\"display:none;\">\n",
              "        \n",
              "  <svg xmlns=\"http://www.w3.org/2000/svg\" height=\"24px\"viewBox=\"0 0 24 24\"\n",
              "       width=\"24px\">\n",
              "    <path d=\"M0 0h24v24H0V0z\" fill=\"none\"/>\n",
              "    <path d=\"M18.56 5.44l.94 2.06.94-2.06 2.06-.94-2.06-.94-.94-2.06-.94 2.06-2.06.94zm-11 1L8.5 8.5l.94-2.06 2.06-.94-2.06-.94L8.5 2.5l-.94 2.06-2.06.94zm10 10l.94 2.06.94-2.06 2.06-.94-2.06-.94-.94-2.06-.94 2.06-2.06.94z\"/><path d=\"M17.41 7.96l-1.37-1.37c-.4-.4-.92-.59-1.43-.59-.52 0-1.04.2-1.43.59L10.3 9.45l-7.72 7.72c-.78.78-.78 2.05 0 2.83L4 21.41c.39.39.9.59 1.41.59.51 0 1.02-.2 1.41-.59l7.78-7.78 2.81-2.81c.8-.78.8-2.07 0-2.86zM5.41 20L4 18.59l7.72-7.72 1.47 1.35L5.41 20z\"/>\n",
              "  </svg>\n",
              "      </button>\n",
              "      \n",
              "  <style>\n",
              "    .colab-df-container {\n",
              "      display:flex;\n",
              "      flex-wrap:wrap;\n",
              "      gap: 12px;\n",
              "    }\n",
              "\n",
              "    .colab-df-convert {\n",
              "      background-color: #E8F0FE;\n",
              "      border: none;\n",
              "      border-radius: 50%;\n",
              "      cursor: pointer;\n",
              "      display: none;\n",
              "      fill: #1967D2;\n",
              "      height: 32px;\n",
              "      padding: 0 0 0 0;\n",
              "      width: 32px;\n",
              "    }\n",
              "\n",
              "    .colab-df-convert:hover {\n",
              "      background-color: #E2EBFA;\n",
              "      box-shadow: 0px 1px 2px rgba(60, 64, 67, 0.3), 0px 1px 3px 1px rgba(60, 64, 67, 0.15);\n",
              "      fill: #174EA6;\n",
              "    }\n",
              "\n",
              "    [theme=dark] .colab-df-convert {\n",
              "      background-color: #3B4455;\n",
              "      fill: #D2E3FC;\n",
              "    }\n",
              "\n",
              "    [theme=dark] .colab-df-convert:hover {\n",
              "      background-color: #434B5C;\n",
              "      box-shadow: 0px 1px 3px 1px rgba(0, 0, 0, 0.15);\n",
              "      filter: drop-shadow(0px 1px 2px rgba(0, 0, 0, 0.3));\n",
              "      fill: #FFFFFF;\n",
              "    }\n",
              "  </style>\n",
              "\n",
              "      <script>\n",
              "        const buttonEl =\n",
              "          document.querySelector('#df-48547484-3d9a-4a5c-a634-056b43c0fd1c button.colab-df-convert');\n",
              "        buttonEl.style.display =\n",
              "          google.colab.kernel.accessAllowed ? 'block' : 'none';\n",
              "\n",
              "        async function convertToInteractive(key) {\n",
              "          const element = document.querySelector('#df-48547484-3d9a-4a5c-a634-056b43c0fd1c');\n",
              "          const dataTable =\n",
              "            await google.colab.kernel.invokeFunction('convertToInteractive',\n",
              "                                                     [key], {});\n",
              "          if (!dataTable) return;\n",
              "\n",
              "          const docLinkHtml = 'Like what you see? Visit the ' +\n",
              "            '<a target=\"_blank\" href=https://colab.research.google.com/notebooks/data_table.ipynb>data table notebook</a>'\n",
              "            + ' to learn more about interactive tables.';\n",
              "          element.innerHTML = '';\n",
              "          dataTable['output_type'] = 'display_data';\n",
              "          await google.colab.output.renderOutput(dataTable, element);\n",
              "          const docLink = document.createElement('div');\n",
              "          docLink.innerHTML = docLinkHtml;\n",
              "          element.appendChild(docLink);\n",
              "        }\n",
              "      </script>\n",
              "    </div>\n",
              "  </div>\n",
              "  "
            ]
          },
          "metadata": {},
          "execution_count": 13
        }
      ]
    },
    {
      "cell_type": "code",
      "source": [
        "df.dtypes"
      ],
      "metadata": {
        "colab": {
          "base_uri": "https://localhost:8080/"
        },
        "id": "r_rOyj2MmSwX",
        "outputId": "5fd4a9f0-df19-4941-dcd9-7cdeebc32dcd"
      },
      "execution_count": 14,
      "outputs": [
        {
          "output_type": "execute_result",
          "data": {
            "text/plain": [
              "연번      int64\n",
              "확진일    object\n",
              "지역     object\n",
              "여행력    object\n",
              "접촉력    object\n",
              "상태     object\n",
              "dtype: object"
            ]
          },
          "metadata": {},
          "execution_count": 14
        }
      ]
    },
    {
      "cell_type": "markdown",
      "source": [
        "## 확진일의 dtype을 datatime으로 변경"
      ],
      "metadata": {
        "id": "f12p3Wy3mr6W"
      }
    },
    {
      "cell_type": "code",
      "source": [
        "df['확진일'] = pd.to_datetime(df['확진일'])"
      ],
      "metadata": {
        "id": "XboSh4Opmnif"
      },
      "execution_count": 18,
      "outputs": []
    },
    {
      "cell_type": "code",
      "source": [
        "df.dtypes"
      ],
      "metadata": {
        "colab": {
          "base_uri": "https://localhost:8080/"
        },
        "id": "jIBwINBqm48G",
        "outputId": "b3f9b803-6f2c-492a-f7c2-964172a62353"
      },
      "execution_count": 19,
      "outputs": [
        {
          "output_type": "execute_result",
          "data": {
            "text/plain": [
              "연번              int64\n",
              "확진일    datetime64[ns]\n",
              "지역             object\n",
              "여행력            object\n",
              "접촉력            object\n",
              "상태             object\n",
              "dtype: object"
            ]
          },
          "metadata": {},
          "execution_count": 19
        }
      ]
    },
    {
      "cell_type": "markdown",
      "source": [
        "## 지역 데이터의 공백제거"
      ],
      "metadata": {
        "id": "a9pRRGLPnGa_"
      }
    },
    {
      "cell_type": "code",
      "source": [
        "df['지역'].nunique() #unique의 개수, 서울의 구는 25개, 기타 1개, 타시도 1개"
      ],
      "metadata": {
        "colab": {
          "base_uri": "https://localhost:8080/"
        },
        "id": "aO7fc2mkm-z-",
        "outputId": "098ee7c3-a710-4a9f-c70d-bb190a5d5f76"
      },
      "execution_count": 20,
      "outputs": [
        {
          "output_type": "execute_result",
          "data": {
            "text/plain": [
              "29"
            ]
          },
          "metadata": {},
          "execution_count": 20
        }
      ]
    },
    {
      "cell_type": "code",
      "source": [
        "df['지역'].unique()"
      ],
      "metadata": {
        "colab": {
          "base_uri": "https://localhost:8080/"
        },
        "id": "DA0pELEwnOu_",
        "outputId": "797b61f1-df80-4af5-a893-c042d98d29aa"
      },
      "execution_count": 21,
      "outputs": [
        {
          "output_type": "execute_result",
          "data": {
            "text/plain": [
              "array(['기타', '영등포구', '관악구', '서대문구', '송파구', '동대문구', '성동구', '중랑구', '타시도',\n",
              "       '종로구', '도봉구', '용산구', '마포구', '구로구', '동작구', '강동구', '중구', '노원구',\n",
              "       '양천구', '강서구', '은평구', '성북구', '광진구', '금천구', '강북구', '강남구', '서초구',\n",
              "       '타시도 ', ' 성북구'], dtype=object)"
            ]
          },
          "metadata": {},
          "execution_count": 21
        }
      ]
    },
    {
      "cell_type": "code",
      "source": [
        "df['지역'] = df['지역'].str.strip()"
      ],
      "metadata": {
        "id": "rKRVq9BpnhFO"
      },
      "execution_count": 22,
      "outputs": []
    },
    {
      "cell_type": "code",
      "source": [
        "df['지역'].nunique() #2개의 개수가 줄은 것을 확인"
      ],
      "metadata": {
        "colab": {
          "base_uri": "https://localhost:8080/"
        },
        "id": "K4C5j858n7EW",
        "outputId": "9e2698c1-4781-4133-d962-5fef778a9cb1"
      },
      "execution_count": 23,
      "outputs": [
        {
          "output_type": "execute_result",
          "data": {
            "text/plain": [
              "27"
            ]
          },
          "metadata": {},
          "execution_count": 23
        }
      ]
    },
    {
      "cell_type": "code",
      "source": [
        "df['지역'].unique()"
      ],
      "metadata": {
        "colab": {
          "base_uri": "https://localhost:8080/"
        },
        "id": "FwoXnqUFn8MP",
        "outputId": "f9747558-711c-446e-fb04-cbc4f972e7e6"
      },
      "execution_count": 24,
      "outputs": [
        {
          "output_type": "execute_result",
          "data": {
            "text/plain": [
              "array(['기타', '영등포구', '관악구', '서대문구', '송파구', '동대문구', '성동구', '중랑구', '타시도',\n",
              "       '종로구', '도봉구', '용산구', '마포구', '구로구', '동작구', '강동구', '중구', '노원구',\n",
              "       '양천구', '강서구', '은평구', '성북구', '광진구', '금천구', '강북구', '강남구', '서초구'],\n",
              "      dtype=object)"
            ]
          },
          "metadata": {},
          "execution_count": 24
        }
      ]
    },
    {
      "cell_type": "markdown",
      "source": [
        "## 지역의 dtype을 category로 변경"
      ],
      "metadata": {
        "id": "vLYIalJ6oSK-"
      }
    },
    {
      "cell_type": "code",
      "source": [
        "df['지역'] = df['지역'].astype('category')"
      ],
      "metadata": {
        "id": "K_ckBkFFoCfG"
      },
      "execution_count": 25,
      "outputs": []
    },
    {
      "cell_type": "code",
      "source": [
        "df.info()"
      ],
      "metadata": {
        "colab": {
          "base_uri": "https://localhost:8080/"
        },
        "id": "TUdhtZn1ohpQ",
        "outputId": "4e6b4e79-38ab-4453-abcd-80b6cb136d2e"
      },
      "execution_count": 26,
      "outputs": [
        {
          "output_type": "stream",
          "name": "stdout",
          "text": [
            "<class 'pandas.core.frame.DataFrame'>\n",
            "RangeIndex: 99550 entries, 0 to 99549\n",
            "Data columns (total 6 columns):\n",
            " #   Column  Non-Null Count  Dtype         \n",
            "---  ------  --------------  -----         \n",
            " 0   연번      99550 non-null  int64         \n",
            " 1   확진일     99550 non-null  datetime64[ns]\n",
            " 2   지역      99550 non-null  category      \n",
            " 3   여행력     1717 non-null   object        \n",
            " 4   접촉력     99550 non-null  object        \n",
            " 5   상태      99550 non-null  object        \n",
            "dtypes: category(1), datetime64[ns](1), int64(1), object(3)\n",
            "memory usage: 3.9+ MB\n"
          ]
        }
      ]
    },
    {
      "cell_type": "markdown",
      "source": [
        "# 구별 확진자 동향\n",
        "* 확진일 - 구별 확진자수 집계(pivot t[링크 텍스트](https://)able 만들기)"
      ],
      "metadata": {
        "id": "npDJPO9vo3Xn"
      }
    },
    {
      "cell_type": "code",
      "source": [
        "df_gu = pd.pivot_table(df, values='연번' ,index='확진일', columns='지역', aggfunc='count', margins=True)\n",
        "df_gu"
      ],
      "metadata": {
        "colab": {
          "base_uri": "https://localhost:8080/",
          "height": 829
        },
        "id": "EocKkQrCokCG",
        "outputId": "c89f23ed-ac9a-48f5-b274-3e9188c78d37"
      },
      "execution_count": 29,
      "outputs": [
        {
          "output_type": "execute_result",
          "data": {
            "text/plain": [
              "지역                    강남구   강동구   강북구   강서구   관악구   광진구   구로구   금천구    기타  \\\n",
              "확진일                                                                         \n",
              "2020-01-24 00:00:00     0     0     0     1     0     0     0     0     0   \n",
              "2020-01-30 00:00:00     0     0     0     0     0     0     0     0     0   \n",
              "2020-01-31 00:00:00     0     0     0     0     0     0     0     0     0   \n",
              "2020-02-02 00:00:00     0     0     0     0     0     0     0     0     0   \n",
              "2020-02-05 00:00:00     0     0     0     0     0     0     0     0     0   \n",
              "...                   ...   ...   ...   ...   ...   ...   ...   ...   ...   \n",
              "2021-09-25 00:00:00    37    41    42    48    37    34    31    39     0   \n",
              "2021-09-26 00:00:00    43    17    27    29    37    37    72    19     0   \n",
              "2021-09-27 00:00:00    50    29    20    50    23    34    58    16     0   \n",
              "2021-09-28 00:00:00    45    51    25    41    48    36    55    31    65   \n",
              "All                  6926  3782  2606  4447  5418  3486  4168  2064  2321   \n",
              "\n",
              "지역                    노원구  ...   송파구   양천구  영등포구   용산구   은평구   종로구    중구  \\\n",
              "확진일                        ...                                             \n",
              "2020-01-24 00:00:00     0  ...     0     0     0     0     0     0     0   \n",
              "2020-01-30 00:00:00     0  ...     0     0     0     0     0     1     0   \n",
              "2020-01-31 00:00:00     0  ...     0     0     0     0     0     2     0   \n",
              "2020-02-02 00:00:00     0  ...     0     0     0     0     0     0     0   \n",
              "2020-02-05 00:00:00     0  ...     1     0     0     0     0     0     0   \n",
              "...                   ...  ...   ...   ...   ...   ...   ...   ...   ...   \n",
              "2021-09-25 00:00:00    27  ...    88    20    35    32    31    31    24   \n",
              "2021-09-26 00:00:00    25  ...    55    12    40    13    38    33    27   \n",
              "2021-09-27 00:00:00    37  ...    58    27    41    28    17    20    22   \n",
              "2021-09-28 00:00:00    29  ...    68    27    43    24    47    23    37   \n",
              "All                  3932  ...  6356  3291  4463  2705  4284  1617  1708   \n",
              "\n",
              "지역                    중랑구   타시도    All  \n",
              "확진일                                     \n",
              "2020-01-24 00:00:00     0     0      1  \n",
              "2020-01-30 00:00:00     1     0      3  \n",
              "2020-01-31 00:00:00     0     0      3  \n",
              "2020-02-02 00:00:00     0     1      1  \n",
              "2020-02-05 00:00:00     0     0      2  \n",
              "...                   ...   ...    ...  \n",
              "2021-09-25 00:00:00    35    31    928  \n",
              "2021-09-26 00:00:00    26    32    778  \n",
              "2021-09-27 00:00:00    18    63    842  \n",
              "2021-09-28 00:00:00    26    43   1054  \n",
              "All                  3729  4715  99550  \n",
              "\n",
              "[583 rows x 28 columns]"
            ],
            "text/html": [
              "\n",
              "  <div id=\"df-86307514-f80a-4556-b1ee-8bbbeb606038\">\n",
              "    <div class=\"colab-df-container\">\n",
              "      <div>\n",
              "<style scoped>\n",
              "    .dataframe tbody tr th:only-of-type {\n",
              "        vertical-align: middle;\n",
              "    }\n",
              "\n",
              "    .dataframe tbody tr th {\n",
              "        vertical-align: top;\n",
              "    }\n",
              "\n",
              "    .dataframe thead th {\n",
              "        text-align: right;\n",
              "    }\n",
              "</style>\n",
              "<table border=\"1\" class=\"dataframe\">\n",
              "  <thead>\n",
              "    <tr style=\"text-align: right;\">\n",
              "      <th>지역</th>\n",
              "      <th>강남구</th>\n",
              "      <th>강동구</th>\n",
              "      <th>강북구</th>\n",
              "      <th>강서구</th>\n",
              "      <th>관악구</th>\n",
              "      <th>광진구</th>\n",
              "      <th>구로구</th>\n",
              "      <th>금천구</th>\n",
              "      <th>기타</th>\n",
              "      <th>노원구</th>\n",
              "      <th>...</th>\n",
              "      <th>송파구</th>\n",
              "      <th>양천구</th>\n",
              "      <th>영등포구</th>\n",
              "      <th>용산구</th>\n",
              "      <th>은평구</th>\n",
              "      <th>종로구</th>\n",
              "      <th>중구</th>\n",
              "      <th>중랑구</th>\n",
              "      <th>타시도</th>\n",
              "      <th>All</th>\n",
              "    </tr>\n",
              "    <tr>\n",
              "      <th>확진일</th>\n",
              "      <th></th>\n",
              "      <th></th>\n",
              "      <th></th>\n",
              "      <th></th>\n",
              "      <th></th>\n",
              "      <th></th>\n",
              "      <th></th>\n",
              "      <th></th>\n",
              "      <th></th>\n",
              "      <th></th>\n",
              "      <th></th>\n",
              "      <th></th>\n",
              "      <th></th>\n",
              "      <th></th>\n",
              "      <th></th>\n",
              "      <th></th>\n",
              "      <th></th>\n",
              "      <th></th>\n",
              "      <th></th>\n",
              "      <th></th>\n",
              "      <th></th>\n",
              "    </tr>\n",
              "  </thead>\n",
              "  <tbody>\n",
              "    <tr>\n",
              "      <th>2020-01-24 00:00:00</th>\n",
              "      <td>0</td>\n",
              "      <td>0</td>\n",
              "      <td>0</td>\n",
              "      <td>1</td>\n",
              "      <td>0</td>\n",
              "      <td>0</td>\n",
              "      <td>0</td>\n",
              "      <td>0</td>\n",
              "      <td>0</td>\n",
              "      <td>0</td>\n",
              "      <td>...</td>\n",
              "      <td>0</td>\n",
              "      <td>0</td>\n",
              "      <td>0</td>\n",
              "      <td>0</td>\n",
              "      <td>0</td>\n",
              "      <td>0</td>\n",
              "      <td>0</td>\n",
              "      <td>0</td>\n",
              "      <td>0</td>\n",
              "      <td>1</td>\n",
              "    </tr>\n",
              "    <tr>\n",
              "      <th>2020-01-30 00:00:00</th>\n",
              "      <td>0</td>\n",
              "      <td>0</td>\n",
              "      <td>0</td>\n",
              "      <td>0</td>\n",
              "      <td>0</td>\n",
              "      <td>0</td>\n",
              "      <td>0</td>\n",
              "      <td>0</td>\n",
              "      <td>0</td>\n",
              "      <td>0</td>\n",
              "      <td>...</td>\n",
              "      <td>0</td>\n",
              "      <td>0</td>\n",
              "      <td>0</td>\n",
              "      <td>0</td>\n",
              "      <td>0</td>\n",
              "      <td>1</td>\n",
              "      <td>0</td>\n",
              "      <td>1</td>\n",
              "      <td>0</td>\n",
              "      <td>3</td>\n",
              "    </tr>\n",
              "    <tr>\n",
              "      <th>2020-01-31 00:00:00</th>\n",
              "      <td>0</td>\n",
              "      <td>0</td>\n",
              "      <td>0</td>\n",
              "      <td>0</td>\n",
              "      <td>0</td>\n",
              "      <td>0</td>\n",
              "      <td>0</td>\n",
              "      <td>0</td>\n",
              "      <td>0</td>\n",
              "      <td>0</td>\n",
              "      <td>...</td>\n",
              "      <td>0</td>\n",
              "      <td>0</td>\n",
              "      <td>0</td>\n",
              "      <td>0</td>\n",
              "      <td>0</td>\n",
              "      <td>2</td>\n",
              "      <td>0</td>\n",
              "      <td>0</td>\n",
              "      <td>0</td>\n",
              "      <td>3</td>\n",
              "    </tr>\n",
              "    <tr>\n",
              "      <th>2020-02-02 00:00:00</th>\n",
              "      <td>0</td>\n",
              "      <td>0</td>\n",
              "      <td>0</td>\n",
              "      <td>0</td>\n",
              "      <td>0</td>\n",
              "      <td>0</td>\n",
              "      <td>0</td>\n",
              "      <td>0</td>\n",
              "      <td>0</td>\n",
              "      <td>0</td>\n",
              "      <td>...</td>\n",
              "      <td>0</td>\n",
              "      <td>0</td>\n",
              "      <td>0</td>\n",
              "      <td>0</td>\n",
              "      <td>0</td>\n",
              "      <td>0</td>\n",
              "      <td>0</td>\n",
              "      <td>0</td>\n",
              "      <td>1</td>\n",
              "      <td>1</td>\n",
              "    </tr>\n",
              "    <tr>\n",
              "      <th>2020-02-05 00:00:00</th>\n",
              "      <td>0</td>\n",
              "      <td>0</td>\n",
              "      <td>0</td>\n",
              "      <td>0</td>\n",
              "      <td>0</td>\n",
              "      <td>0</td>\n",
              "      <td>0</td>\n",
              "      <td>0</td>\n",
              "      <td>0</td>\n",
              "      <td>0</td>\n",
              "      <td>...</td>\n",
              "      <td>1</td>\n",
              "      <td>0</td>\n",
              "      <td>0</td>\n",
              "      <td>0</td>\n",
              "      <td>0</td>\n",
              "      <td>0</td>\n",
              "      <td>0</td>\n",
              "      <td>0</td>\n",
              "      <td>0</td>\n",
              "      <td>2</td>\n",
              "    </tr>\n",
              "    <tr>\n",
              "      <th>...</th>\n",
              "      <td>...</td>\n",
              "      <td>...</td>\n",
              "      <td>...</td>\n",
              "      <td>...</td>\n",
              "      <td>...</td>\n",
              "      <td>...</td>\n",
              "      <td>...</td>\n",
              "      <td>...</td>\n",
              "      <td>...</td>\n",
              "      <td>...</td>\n",
              "      <td>...</td>\n",
              "      <td>...</td>\n",
              "      <td>...</td>\n",
              "      <td>...</td>\n",
              "      <td>...</td>\n",
              "      <td>...</td>\n",
              "      <td>...</td>\n",
              "      <td>...</td>\n",
              "      <td>...</td>\n",
              "      <td>...</td>\n",
              "      <td>...</td>\n",
              "    </tr>\n",
              "    <tr>\n",
              "      <th>2021-09-25 00:00:00</th>\n",
              "      <td>37</td>\n",
              "      <td>41</td>\n",
              "      <td>42</td>\n",
              "      <td>48</td>\n",
              "      <td>37</td>\n",
              "      <td>34</td>\n",
              "      <td>31</td>\n",
              "      <td>39</td>\n",
              "      <td>0</td>\n",
              "      <td>27</td>\n",
              "      <td>...</td>\n",
              "      <td>88</td>\n",
              "      <td>20</td>\n",
              "      <td>35</td>\n",
              "      <td>32</td>\n",
              "      <td>31</td>\n",
              "      <td>31</td>\n",
              "      <td>24</td>\n",
              "      <td>35</td>\n",
              "      <td>31</td>\n",
              "      <td>928</td>\n",
              "    </tr>\n",
              "    <tr>\n",
              "      <th>2021-09-26 00:00:00</th>\n",
              "      <td>43</td>\n",
              "      <td>17</td>\n",
              "      <td>27</td>\n",
              "      <td>29</td>\n",
              "      <td>37</td>\n",
              "      <td>37</td>\n",
              "      <td>72</td>\n",
              "      <td>19</td>\n",
              "      <td>0</td>\n",
              "      <td>25</td>\n",
              "      <td>...</td>\n",
              "      <td>55</td>\n",
              "      <td>12</td>\n",
              "      <td>40</td>\n",
              "      <td>13</td>\n",
              "      <td>38</td>\n",
              "      <td>33</td>\n",
              "      <td>27</td>\n",
              "      <td>26</td>\n",
              "      <td>32</td>\n",
              "      <td>778</td>\n",
              "    </tr>\n",
              "    <tr>\n",
              "      <th>2021-09-27 00:00:00</th>\n",
              "      <td>50</td>\n",
              "      <td>29</td>\n",
              "      <td>20</td>\n",
              "      <td>50</td>\n",
              "      <td>23</td>\n",
              "      <td>34</td>\n",
              "      <td>58</td>\n",
              "      <td>16</td>\n",
              "      <td>0</td>\n",
              "      <td>37</td>\n",
              "      <td>...</td>\n",
              "      <td>58</td>\n",
              "      <td>27</td>\n",
              "      <td>41</td>\n",
              "      <td>28</td>\n",
              "      <td>17</td>\n",
              "      <td>20</td>\n",
              "      <td>22</td>\n",
              "      <td>18</td>\n",
              "      <td>63</td>\n",
              "      <td>842</td>\n",
              "    </tr>\n",
              "    <tr>\n",
              "      <th>2021-09-28 00:00:00</th>\n",
              "      <td>45</td>\n",
              "      <td>51</td>\n",
              "      <td>25</td>\n",
              "      <td>41</td>\n",
              "      <td>48</td>\n",
              "      <td>36</td>\n",
              "      <td>55</td>\n",
              "      <td>31</td>\n",
              "      <td>65</td>\n",
              "      <td>29</td>\n",
              "      <td>...</td>\n",
              "      <td>68</td>\n",
              "      <td>27</td>\n",
              "      <td>43</td>\n",
              "      <td>24</td>\n",
              "      <td>47</td>\n",
              "      <td>23</td>\n",
              "      <td>37</td>\n",
              "      <td>26</td>\n",
              "      <td>43</td>\n",
              "      <td>1054</td>\n",
              "    </tr>\n",
              "    <tr>\n",
              "      <th>All</th>\n",
              "      <td>6926</td>\n",
              "      <td>3782</td>\n",
              "      <td>2606</td>\n",
              "      <td>4447</td>\n",
              "      <td>5418</td>\n",
              "      <td>3486</td>\n",
              "      <td>4168</td>\n",
              "      <td>2064</td>\n",
              "      <td>2321</td>\n",
              "      <td>3932</td>\n",
              "      <td>...</td>\n",
              "      <td>6356</td>\n",
              "      <td>3291</td>\n",
              "      <td>4463</td>\n",
              "      <td>2705</td>\n",
              "      <td>4284</td>\n",
              "      <td>1617</td>\n",
              "      <td>1708</td>\n",
              "      <td>3729</td>\n",
              "      <td>4715</td>\n",
              "      <td>99550</td>\n",
              "    </tr>\n",
              "  </tbody>\n",
              "</table>\n",
              "<p>583 rows × 28 columns</p>\n",
              "</div>\n",
              "      <button class=\"colab-df-convert\" onclick=\"convertToInteractive('df-86307514-f80a-4556-b1ee-8bbbeb606038')\"\n",
              "              title=\"Convert this dataframe to an interactive table.\"\n",
              "              style=\"display:none;\">\n",
              "        \n",
              "  <svg xmlns=\"http://www.w3.org/2000/svg\" height=\"24px\"viewBox=\"0 0 24 24\"\n",
              "       width=\"24px\">\n",
              "    <path d=\"M0 0h24v24H0V0z\" fill=\"none\"/>\n",
              "    <path d=\"M18.56 5.44l.94 2.06.94-2.06 2.06-.94-2.06-.94-.94-2.06-.94 2.06-2.06.94zm-11 1L8.5 8.5l.94-2.06 2.06-.94-2.06-.94L8.5 2.5l-.94 2.06-2.06.94zm10 10l.94 2.06.94-2.06 2.06-.94-2.06-.94-.94-2.06-.94 2.06-2.06.94z\"/><path d=\"M17.41 7.96l-1.37-1.37c-.4-.4-.92-.59-1.43-.59-.52 0-1.04.2-1.43.59L10.3 9.45l-7.72 7.72c-.78.78-.78 2.05 0 2.83L4 21.41c.39.39.9.59 1.41.59.51 0 1.02-.2 1.41-.59l7.78-7.78 2.81-2.81c.8-.78.8-2.07 0-2.86zM5.41 20L4 18.59l7.72-7.72 1.47 1.35L5.41 20z\"/>\n",
              "  </svg>\n",
              "      </button>\n",
              "      \n",
              "  <style>\n",
              "    .colab-df-container {\n",
              "      display:flex;\n",
              "      flex-wrap:wrap;\n",
              "      gap: 12px;\n",
              "    }\n",
              "\n",
              "    .colab-df-convert {\n",
              "      background-color: #E8F0FE;\n",
              "      border: none;\n",
              "      border-radius: 50%;\n",
              "      cursor: pointer;\n",
              "      display: none;\n",
              "      fill: #1967D2;\n",
              "      height: 32px;\n",
              "      padding: 0 0 0 0;\n",
              "      width: 32px;\n",
              "    }\n",
              "\n",
              "    .colab-df-convert:hover {\n",
              "      background-color: #E2EBFA;\n",
              "      box-shadow: 0px 1px 2px rgba(60, 64, 67, 0.3), 0px 1px 3px 1px rgba(60, 64, 67, 0.15);\n",
              "      fill: #174EA6;\n",
              "    }\n",
              "\n",
              "    [theme=dark] .colab-df-convert {\n",
              "      background-color: #3B4455;\n",
              "      fill: #D2E3FC;\n",
              "    }\n",
              "\n",
              "    [theme=dark] .colab-df-convert:hover {\n",
              "      background-color: #434B5C;\n",
              "      box-shadow: 0px 1px 3px 1px rgba(0, 0, 0, 0.15);\n",
              "      filter: drop-shadow(0px 1px 2px rgba(0, 0, 0, 0.3));\n",
              "      fill: #FFFFFF;\n",
              "    }\n",
              "  </style>\n",
              "\n",
              "      <script>\n",
              "        const buttonEl =\n",
              "          document.querySelector('#df-86307514-f80a-4556-b1ee-8bbbeb606038 button.colab-df-convert');\n",
              "        buttonEl.style.display =\n",
              "          google.colab.kernel.accessAllowed ? 'block' : 'none';\n",
              "\n",
              "        async function convertToInteractive(key) {\n",
              "          const element = document.querySelector('#df-86307514-f80a-4556-b1ee-8bbbeb606038');\n",
              "          const dataTable =\n",
              "            await google.colab.kernel.invokeFunction('convertToInteractive',\n",
              "                                                     [key], {});\n",
              "          if (!dataTable) return;\n",
              "\n",
              "          const docLinkHtml = 'Like what you see? Visit the ' +\n",
              "            '<a target=\"_blank\" href=https://colab.research.google.com/notebooks/data_table.ipynb>data table notebook</a>'\n",
              "            + ' to learn more about interactive tables.';\n",
              "          element.innerHTML = '';\n",
              "          dataTable['output_type'] = 'display_data';\n",
              "          await google.colab.output.renderOutput(dataTable, element);\n",
              "          const docLink = document.createElement('div');\n",
              "          docLink.innerHTML = docLinkHtml;\n",
              "          element.appendChild(docLink);\n",
              "        }\n",
              "      </script>\n",
              "    </div>\n",
              "  </div>\n",
              "  "
            ]
          },
          "metadata": {},
          "execution_count": 29
        }
      ]
    },
    {
      "cell_type": "markdown",
      "source": [
        "## 서울시 일별 추가 확진자 동향"
      ],
      "metadata": {
        "id": "6FKwFsQD7lhr"
      }
    },
    {
      "cell_type": "code",
      "source": [
        "s_date = df_gu['All'][:-1]\n",
        "s_date"
      ],
      "metadata": {
        "colab": {
          "base_uri": "https://localhost:8080/"
        },
        "id": "DcEJOFbKqBBQ",
        "outputId": "9a27992d-d88c-4782-d2cd-900f18a2c5b6"
      },
      "execution_count": 30,
      "outputs": [
        {
          "output_type": "execute_result",
          "data": {
            "text/plain": [
              "확진일\n",
              "2020-01-24       1\n",
              "2020-01-30       3\n",
              "2020-01-31       3\n",
              "2020-02-02       1\n",
              "2020-02-05       2\n",
              "              ... \n",
              "2021-09-24    1222\n",
              "2021-09-25     928\n",
              "2021-09-26     778\n",
              "2021-09-27     842\n",
              "2021-09-28    1054\n",
              "Name: All, Length: 582, dtype: int64"
            ]
          },
          "metadata": {},
          "execution_count": 30
        }
      ]
    },
    {
      "cell_type": "markdown",
      "source": [
        "* 일별 추가 확진자가 많았던 순서"
      ],
      "metadata": {
        "id": "lOSOlkoJ8iiS"
      }
    },
    {
      "cell_type": "code",
      "source": [
        "s_date.sort_values(ascending=False)"
      ],
      "metadata": {
        "colab": {
          "base_uri": "https://localhost:8080/"
        },
        "id": "vLm2SxRU74Jy",
        "outputId": "5fae3149-82ae-4280-9940-ab9e933ff6bd"
      },
      "execution_count": 32,
      "outputs": [
        {
          "output_type": "execute_result",
          "data": {
            "text/plain": [
              "확진일\n",
              "2021-09-24    1222\n",
              "2021-09-28    1054\n",
              "2021-09-25     928\n",
              "2021-09-23     905\n",
              "2021-09-27     842\n",
              "              ... \n",
              "2020-04-24       1\n",
              "2020-04-30       1\n",
              "2020-05-01       1\n",
              "2020-05-17       1\n",
              "2020-01-24       1\n",
              "Name: All, Length: 582, dtype: int64"
            ]
          },
          "metadata": {},
          "execution_count": 32
        }
      ]
    },
    {
      "cell_type": "markdown",
      "source": [
        "* 서울시 일별 추가 확진자 시각화"
      ],
      "metadata": {
        "id": "-DjkJeCs8mH9"
      }
    },
    {
      "cell_type": "code",
      "source": [
        "x = s_date.index\n",
        "y = s_date.values\n",
        "plt.plot(x, y)\n",
        "plt.title('서울시 일별 추가 확진자 시각화')\n",
        "plt.xlabel('확진일')\n",
        "plt.ylabel('확진자수')\n",
        "plt.xticks(rotation=45)\n",
        "plt.show()"
      ],
      "metadata": {
        "colab": {
          "base_uri": "https://localhost:8080/",
          "height": 321
        },
        "id": "yIJwV5HT8Mq2",
        "outputId": "707b25f6-ac5e-4bd9-d45b-79549a1bd11d"
      },
      "execution_count": 35,
      "outputs": [
        {
          "output_type": "display_data",
          "data": {
            "text/plain": [
              "<Figure size 432x288 with 1 Axes>"
            ],
            "image/png": "[encoded data removed]"
          },
          "metadata": {
            "needs_background": "light"
          }
        }
      ]
    },
    {
      "cell_type": "markdown",
      "source": [
        "* 서울시 지역구별 누적확진자 비교"
      ],
      "metadata": {
        "id": "CIzRt6iv9pAD"
      }
    },
    {
      "cell_type": "code",
      "source": [
        "# 강사님 코드\n",
        "s_gu = df_gu.loc['All'][:-1]\n",
        "s_gu = s_gu.sort_values(ascending=False)\n",
        "\n",
        "x = s_gu.index\n",
        "y = s_gu.values\n",
        "\n",
        "plt.figure(figsize=(10,8))\n",
        "plt.barh(x,y)\n",
        "plt.title('서울시 지역구별 누적 확진자수', size=15, color='brown', weight='bold')\n",
        "plt.ylabel('지역구', size=15)\n",
        "plt.xlabel('확진자수', size=15)\n",
        "\n",
        "plt.show()"
      ],
      "metadata": {
        "colab": {
          "base_uri": "https://localhost:8080/",
          "height": 521
        },
        "id": "a4msrNeNBSLc",
        "outputId": "05c551cb-edd5-405b-b625-e405d1d94fe4"
      },
      "execution_count": 61,
      "outputs": [
        {
          "output_type": "display_data",
          "data": {
            "text/plain": [
              "<Figure size 720x576 with 1 Axes>"
            ],
            "image/png": "[encoded data removed]"
          },
          "metadata": {
            "needs_background": "light"
          }
        }
      ]
    },
    {
      "cell_type": "code",
      "source": [
        "# 직접 한 코드\n",
        "df_gu.T['All'][:-1].sort_values(ascending=True).plot(kind='barh', stacked=False, figsize=(10,6), width=0.5)\n",
        "\n",
        "plt.title('서울시 지역별 추가 확진자', size=30, color='brown', weight='bold')\n",
        "plt.ylabel('지역', size=15, color='blue')\n",
        "plt.xlabel('합계', size=15, color='blue')\n",
        "plt.legend(loc='best', fontsize=15)\n",
        "\n",
        "plt.show()"
      ],
      "metadata": {
        "colab": {
          "base_uri": "https://localhost:8080/",
          "height": 426
        },
        "id": "LQucJRI7-k4D",
        "outputId": "daec43be-b3fa-4ece-8ec0-c52c8da56669"
      },
      "execution_count": 57,
      "outputs": [
        {
          "output_type": "display_data",
          "data": {
            "text/plain": [
              "<Figure size 720x432 with 1 Axes>"
            ],
            "image/png": "[encoded data removed]"
          },
          "metadata": {
            "needs_background": "light"
          }
        }
      ]
    },
    {
      "cell_type": "markdown",
      "source": [
        "## 접촉력에 따른 확진자수 best10"
      ],
      "metadata": {
        "id": "CvEonI_OCpGN"
      }
    },
    {
      "cell_type": "code",
      "source": [
        "df['접촉력'].value_counts()[:10].to_frame() # 데이터 프레임으로 변경"
      ],
      "metadata": {
        "colab": {
          "base_uri": "https://localhost:8080/",
          "height": 363
        },
        "id": "6ryFonBJ-niD",
        "outputId": "1e692d6a-62a4-4098-eaef-17f38d8112df"
      },
      "execution_count": 78,
      "outputs": [
        {
          "output_type": "execute_result",
          "data": {
            "text/plain": [
              "                        접촉력\n",
              "기타 확진자 접촉             37943\n",
              "감염경로 조사중              31964\n",
              "타시도 확진자 접촉             4244\n",
              "해외유입                   1729\n",
              "동부구치소 관련               1175\n",
              "병원 및 요양시설               988\n",
              "송파구 소재 시장 관련(?21.9.)    659\n",
              "성북구 사랑제일교회 관련           641\n",
              "중구 소재 시장 관련(?21.9.)     277\n",
              "강서구 교회 관련               246"
            ],
            "text/html": [
              "\n",
              "  <div id=\"df-1be82888-5fec-4603-ace3-056617067980\">\n",
              "    <div class=\"colab-df-container\">\n",
              "      <div>\n",
              "<style scoped>\n",
              "    .dataframe tbody tr th:only-of-type {\n",
              "        vertical-align: middle;\n",
              "    }\n",
              "\n",
              "    .dataframe tbody tr th {\n",
              "        vertical-align: top;\n",
              "    }\n",
              "\n",
              "    .dataframe thead th {\n",
              "        text-align: right;\n",
              "    }\n",
              "</style>\n",
              "<table border=\"1\" class=\"dataframe\">\n",
              "  <thead>\n",
              "    <tr style=\"text-align: right;\">\n",
              "      <th></th>\n",
              "      <th>접촉력</th>\n",
              "    </tr>\n",
              "  </thead>\n",
              "  <tbody>\n",
              "    <tr>\n",
              "      <th>기타 확진자 접촉</th>\n",
              "      <td>37943</td>\n",
              "    </tr>\n",
              "    <tr>\n",
              "      <th>감염경로 조사중</th>\n",
              "      <td>31964</td>\n",
              "    </tr>\n",
              "    <tr>\n",
              "      <th>타시도 확진자 접촉</th>\n",
              "      <td>4244</td>\n",
              "    </tr>\n",
              "    <tr>\n",
              "      <th>해외유입</th>\n",
              "      <td>1729</td>\n",
              "    </tr>\n",
              "    <tr>\n",
              "      <th>동부구치소 관련</th>\n",
              "      <td>1175</td>\n",
              "    </tr>\n",
              "    <tr>\n",
              "      <th>병원 및 요양시설</th>\n",
              "      <td>988</td>\n",
              "    </tr>\n",
              "    <tr>\n",
              "      <th>송파구 소재 시장 관련(?21.9.)</th>\n",
              "      <td>659</td>\n",
              "    </tr>\n",
              "    <tr>\n",
              "      <th>성북구 사랑제일교회 관련</th>\n",
              "      <td>641</td>\n",
              "    </tr>\n",
              "    <tr>\n",
              "      <th>중구 소재 시장 관련(?21.9.)</th>\n",
              "      <td>277</td>\n",
              "    </tr>\n",
              "    <tr>\n",
              "      <th>강서구 교회 관련</th>\n",
              "      <td>246</td>\n",
              "    </tr>\n",
              "  </tbody>\n",
              "</table>\n",
              "</div>\n",
              "      <button class=\"colab-df-convert\" onclick=\"convertToInteractive('df-1be82888-5fec-4603-ace3-056617067980')\"\n",
              "              title=\"Convert this dataframe to an interactive table.\"\n",
              "              style=\"display:none;\">\n",
              "        \n",
              "  <svg xmlns=\"http://www.w3.org/2000/svg\" height=\"24px\"viewBox=\"0 0 24 24\"\n",
              "       width=\"24px\">\n",
              "    <path d=\"M0 0h24v24H0V0z\" fill=\"none\"/>\n",
              "    <path d=\"M18.56 5.44l.94 2.06.94-2.06 2.06-.94-2.06-.94-.94-2.06-.94 2.06-2.06.94zm-11 1L8.5 8.5l.94-2.06 2.06-.94-2.06-.94L8.5 2.5l-.94 2.06-2.06.94zm10 10l.94 2.06.94-2.06 2.06-.94-2.06-.94-.94-2.06-.94 2.06-2.06.94z\"/><path d=\"M17.41 7.96l-1.37-1.37c-.4-.4-.92-.59-1.43-.59-.52 0-1.04.2-1.43.59L10.3 9.45l-7.72 7.72c-.78.78-.78 2.05 0 2.83L4 21.41c.39.39.9.59 1.41.59.51 0 1.02-.2 1.41-.59l7.78-7.78 2.81-2.81c.8-.78.8-2.07 0-2.86zM5.41 20L4 18.59l7.72-7.72 1.47 1.35L5.41 20z\"/>\n",
              "  </svg>\n",
              "      </button>\n",
              "      \n",
              "  <style>\n",
              "    .colab-df-container {\n",
              "      display:flex;\n",
              "      flex-wrap:wrap;\n",
              "      gap: 12px;\n",
              "    }\n",
              "\n",
              "    .colab-df-convert {\n",
              "      background-color: #E8F0FE;\n",
              "      border: none;\n",
              "      border-radius: 50%;\n",
              "      cursor: pointer;\n",
              "      display: none;\n",
              "      fill: #1967D2;\n",
              "      height: 32px;\n",
              "      padding: 0 0 0 0;\n",
              "      width: 32px;\n",
              "    }\n",
              "\n",
              "    .colab-df-convert:hover {\n",
              "      background-color: #E2EBFA;\n",
              "      box-shadow: 0px 1px 2px rgba(60, 64, 67, 0.3), 0px 1px 3px 1px rgba(60, 64, 67, 0.15);\n",
              "      fill: #174EA6;\n",
              "    }\n",
              "\n",
              "    [theme=dark] .colab-df-convert {\n",
              "      background-color: #3B4455;\n",
              "      fill: #D2E3FC;\n",
              "    }\n",
              "\n",
              "    [theme=dark] .colab-df-convert:hover {\n",
              "      background-color: #434B5C;\n",
              "      box-shadow: 0px 1px 3px 1px rgba(0, 0, 0, 0.15);\n",
              "      filter: drop-shadow(0px 1px 2px rgba(0, 0, 0, 0.3));\n",
              "      fill: #FFFFFF;\n",
              "    }\n",
              "  </style>\n",
              "\n",
              "      <script>\n",
              "        const buttonEl =\n",
              "          document.querySelector('#df-1be82888-5fec-4603-ace3-056617067980 button.colab-df-convert');\n",
              "        buttonEl.style.display =\n",
              "          google.colab.kernel.accessAllowed ? 'block' : 'none';\n",
              "\n",
              "        async function convertToInteractive(key) {\n",
              "          const element = document.querySelector('#df-1be82888-5fec-4603-ace3-056617067980');\n",
              "          const dataTable =\n",
              "            await google.colab.kernel.invokeFunction('convertToInteractive',\n",
              "                                                     [key], {});\n",
              "          if (!dataTable) return;\n",
              "\n",
              "          const docLinkHtml = 'Like what you see? Visit the ' +\n",
              "            '<a target=\"_blank\" href=https://colab.research.google.com/notebooks/data_table.ipynb>data table notebook</a>'\n",
              "            + ' to learn more about interactive tables.';\n",
              "          element.innerHTML = '';\n",
              "          dataTable['output_type'] = 'display_data';\n",
              "          await google.colab.output.renderOutput(dataTable, element);\n",
              "          const docLink = document.createElement('div');\n",
              "          docLink.innerHTML = docLinkHtml;\n",
              "          element.appendChild(docLink);\n",
              "        }\n",
              "      </script>\n",
              "    </div>\n",
              "  </div>\n",
              "  "
            ]
          },
          "metadata": {},
          "execution_count": 78
        }
      ]
    },
    {
      "cell_type": "markdown",
      "source": [
        "## 최근 월 접촉력에 따른 확진건수 best10"
      ],
      "metadata": {
        "id": "LmCpzOwUIIal"
      }
    },
    {
      "cell_type": "markdown",
      "source": [
        "* 2021-9"
      ],
      "metadata": {
        "id": "cCe3RemCIcl2"
      }
    },
    {
      "cell_type": "code",
      "source": [
        "#선생님 코드\n",
        "df[(df['확진일'].dt.year == 2021) & (df['확진일'].dt.month == 9)]"
      ],
      "metadata": {
        "colab": {
          "base_uri": "https://localhost:8080/",
          "height": 424
        },
        "id": "6LcK1l6cIwUQ",
        "outputId": "830757aa-5400-4ff3-b8b8-f10a5a535edb"
      },
      "execution_count": 96,
      "outputs": [
        {
          "output_type": "execute_result",
          "data": {
            "text/plain": [
              "          연번        확진일   지역  여행력        접촉력  상태\n",
              "0      99550 2021-09-28   기타  NaN   감염경로 조사중   -\n",
              "1      99549 2021-09-28   기타  NaN   감염경로 조사중   -\n",
              "2      99548 2021-09-28   기타  NaN   감염경로 조사중   -\n",
              "3      99547 2021-09-28   기타  NaN   감염경로 조사중   -\n",
              "4      99546 2021-09-28   기타  NaN   감염경로 조사중   -\n",
              "...      ...        ...  ...  ...        ...  ..\n",
              "19529  80021 2021-09-01  동작구  NaN   감염경로 조사중  퇴원\n",
              "19530  80020 2021-09-01  중랑구  NaN   감염경로 조사중  퇴원\n",
              "19531  80019 2021-09-01  동작구  NaN  기타 확진자 접촉   -\n",
              "19532  80018 2021-09-01  중랑구  NaN   감염경로 조사중  퇴원\n",
              "19533  80017 2021-09-01  타시도  NaN  기타 확진자 접촉  퇴원\n",
              "\n",
              "[19534 rows x 6 columns]"
            ],
            "text/html": [
              "\n",
              "  <div id=\"df-e2d7a9f2-48a8-4c12-895b-30e14d2c6745\">\n",
              "    <div class=\"colab-df-container\">\n",
              "      <div>\n",
              "<style scoped>\n",
              "    .dataframe tbody tr th:only-of-type {\n",
              "        vertical-align: middle;\n",
              "    }\n",
              "\n",
              "    .dataframe tbody tr th {\n",
              "        vertical-align: top;\n",
              "    }\n",
              "\n",
              "    .dataframe thead th {\n",
              "        text-align: right;\n",
              "    }\n",
              "</style>\n",
              "<table border=\"1\" class=\"dataframe\">\n",
              "  <thead>\n",
              "    <tr style=\"text-align: right;\">\n",
              "      <th></th>\n",
              "      <th>연번</th>\n",
              "      <th>확진일</th>\n",
              "      <th>지역</th>\n",
              "      <th>여행력</th>\n",
              "      <th>접촉력</th>\n",
              "      <th>상태</th>\n",
              "    </tr>\n",
              "  </thead>\n",
              "  <tbody>\n",
              "    <tr>\n",
              "      <th>0</th>\n",
              "      <td>99550</td>\n",
              "      <td>2021-09-28</td>\n",
              "      <td>기타</td>\n",
              "      <td>NaN</td>\n",
              "      <td>감염경로 조사중</td>\n",
              "      <td>-</td>\n",
              "    </tr>\n",
              "    <tr>\n",
              "      <th>1</th>\n",
              "      <td>99549</td>\n",
              "      <td>2021-09-28</td>\n",
              "      <td>기타</td>\n",
              "      <td>NaN</td>\n",
              "      <td>감염경로 조사중</td>\n",
              "      <td>-</td>\n",
              "    </tr>\n",
              "    <tr>\n",
              "      <th>2</th>\n",
              "      <td>99548</td>\n",
              "      <td>2021-09-28</td>\n",
              "      <td>기타</td>\n",
              "      <td>NaN</td>\n",
              "      <td>감염경로 조사중</td>\n",
              "      <td>-</td>\n",
              "    </tr>\n",
              "    <tr>\n",
              "      <th>3</th>\n",
              "      <td>99547</td>\n",
              "      <td>2021-09-28</td>\n",
              "      <td>기타</td>\n",
              "      <td>NaN</td>\n",
              "      <td>감염경로 조사중</td>\n",
              "      <td>-</td>\n",
              "    </tr>\n",
              "    <tr>\n",
              "      <th>4</th>\n",
              "      <td>99546</td>\n",
              "      <td>2021-09-28</td>\n",
              "      <td>기타</td>\n",
              "      <td>NaN</td>\n",
              "      <td>감염경로 조사중</td>\n",
              "      <td>-</td>\n",
              "    </tr>\n",
              "    <tr>\n",
              "      <th>...</th>\n",
              "      <td>...</td>\n",
              "      <td>...</td>\n",
              "      <td>...</td>\n",
              "      <td>...</td>\n",
              "      <td>...</td>\n",
              "      <td>...</td>\n",
              "    </tr>\n",
              "    <tr>\n",
              "      <th>19529</th>\n",
              "      <td>80021</td>\n",
              "      <td>2021-09-01</td>\n",
              "      <td>동작구</td>\n",
              "      <td>NaN</td>\n",
              "      <td>감염경로 조사중</td>\n",
              "      <td>퇴원</td>\n",
              "    </tr>\n",
              "    <tr>\n",
              "      <th>19530</th>\n",
              "      <td>80020</td>\n",
              "      <td>2021-09-01</td>\n",
              "      <td>중랑구</td>\n",
              "      <td>NaN</td>\n",
              "      <td>감염경로 조사중</td>\n",
              "      <td>퇴원</td>\n",
              "    </tr>\n",
              "    <tr>\n",
              "      <th>19531</th>\n",
              "      <td>80019</td>\n",
              "      <td>2021-09-01</td>\n",
              "      <td>동작구</td>\n",
              "      <td>NaN</td>\n",
              "      <td>기타 확진자 접촉</td>\n",
              "      <td>-</td>\n",
              "    </tr>\n",
              "    <tr>\n",
              "      <th>19532</th>\n",
              "      <td>80018</td>\n",
              "      <td>2021-09-01</td>\n",
              "      <td>중랑구</td>\n",
              "      <td>NaN</td>\n",
              "      <td>감염경로 조사중</td>\n",
              "      <td>퇴원</td>\n",
              "    </tr>\n",
              "    <tr>\n",
              "      <th>19533</th>\n",
              "      <td>80017</td>\n",
              "      <td>2021-09-01</td>\n",
              "      <td>타시도</td>\n",
              "      <td>NaN</td>\n",
              "      <td>기타 확진자 접촉</td>\n",
              "      <td>퇴원</td>\n",
              "    </tr>\n",
              "  </tbody>\n",
              "</table>\n",
              "<p>19534 rows × 6 columns</p>\n",
              "</div>\n",
              "      <button class=\"colab-df-convert\" onclick=\"convertToInteractive('df-e2d7a9f2-48a8-4c12-895b-30e14d2c6745')\"\n",
              "              title=\"Convert this dataframe to an interactive table.\"\n",
              "              style=\"display:none;\">\n",
              "        \n",
              "  <svg xmlns=\"http://www.w3.org/2000/svg\" height=\"24px\"viewBox=\"0 0 24 24\"\n",
              "       width=\"24px\">\n",
              "    <path d=\"M0 0h24v24H0V0z\" fill=\"none\"/>\n",
              "    <path d=\"M18.56 5.44l.94 2.06.94-2.06 2.06-.94-2.06-.94-.94-2.06-.94 2.06-2.06.94zm-11 1L8.5 8.5l.94-2.06 2.06-.94-2.06-.94L8.5 2.5l-.94 2.06-2.06.94zm10 10l.94 2.06.94-2.06 2.06-.94-2.06-.94-.94-2.06-.94 2.06-2.06.94z\"/><path d=\"M17.41 7.96l-1.37-1.37c-.4-.4-.92-.59-1.43-.59-.52 0-1.04.2-1.43.59L10.3 9.45l-7.72 7.72c-.78.78-.78 2.05 0 2.83L4 21.41c.39.39.9.59 1.41.59.51 0 1.02-.2 1.41-.59l7.78-7.78 2.81-2.81c.8-.78.8-2.07 0-2.86zM5.41 20L4 18.59l7.72-7.72 1.47 1.35L5.41 20z\"/>\n",
              "  </svg>\n",
              "      </button>\n",
              "      \n",
              "  <style>\n",
              "    .colab-df-container {\n",
              "      display:flex;\n",
              "      flex-wrap:wrap;\n",
              "      gap: 12px;\n",
              "    }\n",
              "\n",
              "    .colab-df-convert {\n",
              "      background-color: #E8F0FE;\n",
              "      border: none;\n",
              "      border-radius: 50%;\n",
              "      cursor: pointer;\n",
              "      display: none;\n",
              "      fill: #1967D2;\n",
              "      height: 32px;\n",
              "      padding: 0 0 0 0;\n",
              "      width: 32px;\n",
              "    }\n",
              "\n",
              "    .colab-df-convert:hover {\n",
              "      background-color: #E2EBFA;\n",
              "      box-shadow: 0px 1px 2px rgba(60, 64, 67, 0.3), 0px 1px 3px 1px rgba(60, 64, 67, 0.15);\n",
              "      fill: #174EA6;\n",
              "    }\n",
              "\n",
              "    [theme=dark] .colab-df-convert {\n",
              "      background-color: #3B4455;\n",
              "      fill: #D2E3FC;\n",
              "    }\n",
              "\n",
              "    [theme=dark] .colab-df-convert:hover {\n",
              "      background-color: #434B5C;\n",
              "      box-shadow: 0px 1px 3px 1px rgba(0, 0, 0, 0.15);\n",
              "      filter: drop-shadow(0px 1px 2px rgba(0, 0, 0, 0.3));\n",
              "      fill: #FFFFFF;\n",
              "    }\n",
              "  </style>\n",
              "\n",
              "      <script>\n",
              "        const buttonEl =\n",
              "          document.querySelector('#df-e2d7a9f2-48a8-4c12-895b-30e14d2c6745 button.colab-df-convert');\n",
              "        buttonEl.style.display =\n",
              "          google.colab.kernel.accessAllowed ? 'block' : 'none';\n",
              "\n",
              "        async function convertToInteractive(key) {\n",
              "          const element = document.querySelector('#df-e2d7a9f2-48a8-4c12-895b-30e14d2c6745');\n",
              "          const dataTable =\n",
              "            await google.colab.kernel.invokeFunction('convertToInteractive',\n",
              "                                                     [key], {});\n",
              "          if (!dataTable) return;\n",
              "\n",
              "          const docLinkHtml = 'Like what you see? Visit the ' +\n",
              "            '<a target=\"_blank\" href=https://colab.research.google.com/notebooks/data_table.ipynb>data table notebook</a>'\n",
              "            + ' to learn more about interactive tables.';\n",
              "          element.innerHTML = '';\n",
              "          dataTable['output_type'] = 'display_data';\n",
              "          await google.colab.output.renderOutput(dataTable, element);\n",
              "          const docLink = document.createElement('div');\n",
              "          docLink.innerHTML = docLinkHtml;\n",
              "          element.appendChild(docLink);\n",
              "        }\n",
              "      </script>\n",
              "    </div>\n",
              "  </div>\n",
              "  "
            ]
          },
          "metadata": {},
          "execution_count": 96
        }
      ]
    },
    {
      "cell_type": "code",
      "source": [
        "#내 코드\n",
        "df[df['확진일'] > '2021-08-31']"
      ],
      "metadata": {
        "colab": {
          "base_uri": "https://localhost:8080/",
          "height": 424
        },
        "id": "mwtguO2ODPIn",
        "outputId": "0c8fdae0-a4b4-4f61-9ae2-be607419b9ed"
      },
      "execution_count": 94,
      "outputs": [
        {
          "output_type": "execute_result",
          "data": {
            "text/plain": [
              "          연번        확진일   지역  여행력        접촉력  상태\n",
              "0      99550 2021-09-28   기타  NaN   감염경로 조사중   -\n",
              "1      99549 2021-09-28   기타  NaN   감염경로 조사중   -\n",
              "2      99548 2021-09-28   기타  NaN   감염경로 조사중   -\n",
              "3      99547 2021-09-28   기타  NaN   감염경로 조사중   -\n",
              "4      99546 2021-09-28   기타  NaN   감염경로 조사중   -\n",
              "...      ...        ...  ...  ...        ...  ..\n",
              "19529  80021 2021-09-01  동작구  NaN   감염경로 조사중  퇴원\n",
              "19530  80020 2021-09-01  중랑구  NaN   감염경로 조사중  퇴원\n",
              "19531  80019 2021-09-01  동작구  NaN  기타 확진자 접촉   -\n",
              "19532  80018 2021-09-01  중랑구  NaN   감염경로 조사중  퇴원\n",
              "19533  80017 2021-09-01  타시도  NaN  기타 확진자 접촉  퇴원\n",
              "\n",
              "[19534 rows x 6 columns]"
            ],
            "text/html": [
              "\n",
              "  <div id=\"df-4448b5eb-6440-451d-a513-92f74eaa9b08\">\n",
              "    <div class=\"colab-df-container\">\n",
              "      <div>\n",
              "<style scoped>\n",
              "    .dataframe tbody tr th:only-of-type {\n",
              "        vertical-align: middle;\n",
              "    }\n",
              "\n",
              "    .dataframe tbody tr th {\n",
              "        vertical-align: top;\n",
              "    }\n",
              "\n",
              "    .dataframe thead th {\n",
              "        text-align: right;\n",
              "    }\n",
              "</style>\n",
              "<table border=\"1\" class=\"dataframe\">\n",
              "  <thead>\n",
              "    <tr style=\"text-align: right;\">\n",
              "      <th></th>\n",
              "      <th>연번</th>\n",
              "      <th>확진일</th>\n",
              "      <th>지역</th>\n",
              "      <th>여행력</th>\n",
              "      <th>접촉력</th>\n",
              "      <th>상태</th>\n",
              "    </tr>\n",
              "  </thead>\n",
              "  <tbody>\n",
              "    <tr>\n",
              "      <th>0</th>\n",
              "      <td>99550</td>\n",
              "      <td>2021-09-28</td>\n",
              "      <td>기타</td>\n",
              "      <td>NaN</td>\n",
              "      <td>감염경로 조사중</td>\n",
              "      <td>-</td>\n",
              "    </tr>\n",
              "    <tr>\n",
              "      <th>1</th>\n",
              "      <td>99549</td>\n",
              "      <td>2021-09-28</td>\n",
              "      <td>기타</td>\n",
              "      <td>NaN</td>\n",
              "      <td>감염경로 조사중</td>\n",
              "      <td>-</td>\n",
              "    </tr>\n",
              "    <tr>\n",
              "      <th>2</th>\n",
              "      <td>99548</td>\n",
              "      <td>2021-09-28</td>\n",
              "      <td>기타</td>\n",
              "      <td>NaN</td>\n",
              "      <td>감염경로 조사중</td>\n",
              "      <td>-</td>\n",
              "    </tr>\n",
              "    <tr>\n",
              "      <th>3</th>\n",
              "      <td>99547</td>\n",
              "      <td>2021-09-28</td>\n",
              "      <td>기타</td>\n",
              "      <td>NaN</td>\n",
              "      <td>감염경로 조사중</td>\n",
              "      <td>-</td>\n",
              "    </tr>\n",
              "    <tr>\n",
              "      <th>4</th>\n",
              "      <td>99546</td>\n",
              "      <td>2021-09-28</td>\n",
              "      <td>기타</td>\n",
              "      <td>NaN</td>\n",
              "      <td>감염경로 조사중</td>\n",
              "      <td>-</td>\n",
              "    </tr>\n",
              "    <tr>\n",
              "      <th>...</th>\n",
              "      <td>...</td>\n",
              "      <td>...</td>\n",
              "      <td>...</td>\n",
              "      <td>...</td>\n",
              "      <td>...</td>\n",
              "      <td>...</td>\n",
              "    </tr>\n",
              "    <tr>\n",
              "      <th>19529</th>\n",
              "      <td>80021</td>\n",
              "      <td>2021-09-01</td>\n",
              "      <td>동작구</td>\n",
              "      <td>NaN</td>\n",
              "      <td>감염경로 조사중</td>\n",
              "      <td>퇴원</td>\n",
              "    </tr>\n",
              "    <tr>\n",
              "      <th>19530</th>\n",
              "      <td>80020</td>\n",
              "      <td>2021-09-01</td>\n",
              "      <td>중랑구</td>\n",
              "      <td>NaN</td>\n",
              "      <td>감염경로 조사중</td>\n",
              "      <td>퇴원</td>\n",
              "    </tr>\n",
              "    <tr>\n",
              "      <th>19531</th>\n",
              "      <td>80019</td>\n",
              "      <td>2021-09-01</td>\n",
              "      <td>동작구</td>\n",
              "      <td>NaN</td>\n",
              "      <td>기타 확진자 접촉</td>\n",
              "      <td>-</td>\n",
              "    </tr>\n",
              "    <tr>\n",
              "      <th>19532</th>\n",
              "      <td>80018</td>\n",
              "      <td>2021-09-01</td>\n",
              "      <td>중랑구</td>\n",
              "      <td>NaN</td>\n",
              "      <td>감염경로 조사중</td>\n",
              "      <td>퇴원</td>\n",
              "    </tr>\n",
              "    <tr>\n",
              "      <th>19533</th>\n",
              "      <td>80017</td>\n",
              "      <td>2021-09-01</td>\n",
              "      <td>타시도</td>\n",
              "      <td>NaN</td>\n",
              "      <td>기타 확진자 접촉</td>\n",
              "      <td>퇴원</td>\n",
              "    </tr>\n",
              "  </tbody>\n",
              "</table>\n",
              "<p>19534 rows × 6 columns</p>\n",
              "</div>\n",
              "      <button class=\"colab-df-convert\" onclick=\"convertToInteractive('df-4448b5eb-6440-451d-a513-92f74eaa9b08')\"\n",
              "              title=\"Convert this dataframe to an interactive table.\"\n",
              "              style=\"display:none;\">\n",
              "        \n",
              "  <svg xmlns=\"http://www.w3.org/2000/svg\" height=\"24px\"viewBox=\"0 0 24 24\"\n",
              "       width=\"24px\">\n",
              "    <path d=\"M0 0h24v24H0V0z\" fill=\"none\"/>\n",
              "    <path d=\"M18.56 5.44l.94 2.06.94-2.06 2.06-.94-2.06-.94-.94-2.06-.94 2.06-2.06.94zm-11 1L8.5 8.5l.94-2.06 2.06-.94-2.06-.94L8.5 2.5l-.94 2.06-2.06.94zm10 10l.94 2.06.94-2.06 2.06-.94-2.06-.94-.94-2.06-.94 2.06-2.06.94z\"/><path d=\"M17.41 7.96l-1.37-1.37c-.4-.4-.92-.59-1.43-.59-.52 0-1.04.2-1.43.59L10.3 9.45l-7.72 7.72c-.78.78-.78 2.05 0 2.83L4 21.41c.39.39.9.59 1.41.59.51 0 1.02-.2 1.41-.59l7.78-7.78 2.81-2.81c.8-.78.8-2.07 0-2.86zM5.41 20L4 18.59l7.72-7.72 1.47 1.35L5.41 20z\"/>\n",
              "  </svg>\n",
              "      </button>\n",
              "      \n",
              "  <style>\n",
              "    .colab-df-container {\n",
              "      display:flex;\n",
              "      flex-wrap:wrap;\n",
              "      gap: 12px;\n",
              "    }\n",
              "\n",
              "    .colab-df-convert {\n",
              "      background-color: #E8F0FE;\n",
              "      border: none;\n",
              "      border-radius: 50%;\n",
              "      cursor: pointer;\n",
              "      display: none;\n",
              "      fill: #1967D2;\n",
              "      height: 32px;\n",
              "      padding: 0 0 0 0;\n",
              "      width: 32px;\n",
              "    }\n",
              "\n",
              "    .colab-df-convert:hover {\n",
              "      background-color: #E2EBFA;\n",
              "      box-shadow: 0px 1px 2px rgba(60, 64, 67, 0.3), 0px 1px 3px 1px rgba(60, 64, 67, 0.15);\n",
              "      fill: #174EA6;\n",
              "    }\n",
              "\n",
              "    [theme=dark] .colab-df-convert {\n",
              "      background-color: #3B4455;\n",
              "      fill: #D2E3FC;\n",
              "    }\n",
              "\n",
              "    [theme=dark] .colab-df-convert:hover {\n",
              "      background-color: #434B5C;\n",
              "      box-shadow: 0px 1px 3px 1px rgba(0, 0, 0, 0.15);\n",
              "      filter: drop-shadow(0px 1px 2px rgba(0, 0, 0, 0.3));\n",
              "      fill: #FFFFFF;\n",
              "    }\n",
              "  </style>\n",
              "\n",
              "      <script>\n",
              "        const buttonEl =\n",
              "          document.querySelector('#df-4448b5eb-6440-451d-a513-92f74eaa9b08 button.colab-df-convert');\n",
              "        buttonEl.style.display =\n",
              "          google.colab.kernel.accessAllowed ? 'block' : 'none';\n",
              "\n",
              "        async function convertToInteractive(key) {\n",
              "          const element = document.querySelector('#df-4448b5eb-6440-451d-a513-92f74eaa9b08');\n",
              "          const dataTable =\n",
              "            await google.colab.kernel.invokeFunction('convertToInteractive',\n",
              "                                                     [key], {});\n",
              "          if (!dataTable) return;\n",
              "\n",
              "          const docLinkHtml = 'Like what you see? Visit the ' +\n",
              "            '<a target=\"_blank\" href=https://colab.research.google.com/notebooks/data_table.ipynb>data table notebook</a>'\n",
              "            + ' to learn more about interactive tables.';\n",
              "          element.innerHTML = '';\n",
              "          dataTable['output_type'] = 'display_data';\n",
              "          await google.colab.output.renderOutput(dataTable, element);\n",
              "          const docLink = document.createElement('div');\n",
              "          docLink.innerHTML = docLinkHtml;\n",
              "          element.appendChild(docLink);\n",
              "        }\n",
              "      </script>\n",
              "    </div>\n",
              "  </div>\n",
              "  "
            ]
          },
          "metadata": {},
          "execution_count": 94
        }
      ]
    },
    {
      "cell_type": "code",
      "source": [
        "df[df['확진일'] > '2021-08-31']['접촉력'].value_counts()[:10].to_frame()"
      ],
      "metadata": {
        "colab": {
          "base_uri": "https://localhost:8080/",
          "height": 363
        },
        "id": "NoRNBLQJFHO4",
        "outputId": "502d35b9-6574-4b78-c5aa-5bee258f3ddf"
      },
      "execution_count": 95,
      "outputs": [
        {
          "output_type": "execute_result",
          "data": {
            "text/plain": [
              "                       접촉력\n",
              "감염경로 조사중              8117\n",
              "기타 확진자 접촉             8088\n",
              "송파구 소재 시장 관련(?21.9.)   658\n",
              "타시도 확진자 접촉             587\n",
              "중구 소재 시장 관련(?21.9.)    277\n",
              "병원 및 요양시설              186\n",
              "해외유입                   122\n",
              "용산구 소재 병원 관련(?21.9.)    77\n",
              "동대문구 소재 시장 관련           44\n",
              "강서구 소재 시장 관련            44"
            ],
            "text/html": [
              "\n",
              "  <div id=\"df-702d39d8-6f64-41e8-88eb-f1cd0c9fabf1\">\n",
              "    <div class=\"colab-df-container\">\n",
              "      <div>\n",
              "<style scoped>\n",
              "    .dataframe tbody tr th:only-of-type {\n",
              "        vertical-align: middle;\n",
              "    }\n",
              "\n",
              "    .dataframe tbody tr th {\n",
              "        vertical-align: top;\n",
              "    }\n",
              "\n",
              "    .dataframe thead th {\n",
              "        text-align: right;\n",
              "    }\n",
              "</style>\n",
              "<table border=\"1\" class=\"dataframe\">\n",
              "  <thead>\n",
              "    <tr style=\"text-align: right;\">\n",
              "      <th></th>\n",
              "      <th>접촉력</th>\n",
              "    </tr>\n",
              "  </thead>\n",
              "  <tbody>\n",
              "    <tr>\n",
              "      <th>감염경로 조사중</th>\n",
              "      <td>8117</td>\n",
              "    </tr>\n",
              "    <tr>\n",
              "      <th>기타 확진자 접촉</th>\n",
              "      <td>8088</td>\n",
              "    </tr>\n",
              "    <tr>\n",
              "      <th>송파구 소재 시장 관련(?21.9.)</th>\n",
              "      <td>658</td>\n",
              "    </tr>\n",
              "    <tr>\n",
              "      <th>타시도 확진자 접촉</th>\n",
              "      <td>587</td>\n",
              "    </tr>\n",
              "    <tr>\n",
              "      <th>중구 소재 시장 관련(?21.9.)</th>\n",
              "      <td>277</td>\n",
              "    </tr>\n",
              "    <tr>\n",
              "      <th>병원 및 요양시설</th>\n",
              "      <td>186</td>\n",
              "    </tr>\n",
              "    <tr>\n",
              "      <th>해외유입</th>\n",
              "      <td>122</td>\n",
              "    </tr>\n",
              "    <tr>\n",
              "      <th>용산구 소재 병원 관련(?21.9.)</th>\n",
              "      <td>77</td>\n",
              "    </tr>\n",
              "    <tr>\n",
              "      <th>동대문구 소재 시장 관련</th>\n",
              "      <td>44</td>\n",
              "    </tr>\n",
              "    <tr>\n",
              "      <th>강서구 소재 시장 관련</th>\n",
              "      <td>44</td>\n",
              "    </tr>\n",
              "  </tbody>\n",
              "</table>\n",
              "</div>\n",
              "      <button class=\"colab-df-convert\" onclick=\"convertToInteractive('df-702d39d8-6f64-41e8-88eb-f1cd0c9fabf1')\"\n",
              "              title=\"Convert this dataframe to an interactive table.\"\n",
              "              style=\"display:none;\">\n",
              "        \n",
              "  <svg xmlns=\"http://www.w3.org/2000/svg\" height=\"24px\"viewBox=\"0 0 24 24\"\n",
              "       width=\"24px\">\n",
              "    <path d=\"M0 0h24v24H0V0z\" fill=\"none\"/>\n",
              "    <path d=\"M18.56 5.44l.94 2.06.94-2.06 2.06-.94-2.06-.94-.94-2.06-.94 2.06-2.06.94zm-11 1L8.5 8.5l.94-2.06 2.06-.94-2.06-.94L8.5 2.5l-.94 2.06-2.06.94zm10 10l.94 2.06.94-2.06 2.06-.94-2.06-.94-.94-2.06-.94 2.06-2.06.94z\"/><path d=\"M17.41 7.96l-1.37-1.37c-.4-.4-.92-.59-1.43-.59-.52 0-1.04.2-1.43.59L10.3 9.45l-7.72 7.72c-.78.78-.78 2.05 0 2.83L4 21.41c.39.39.9.59 1.41.59.51 0 1.02-.2 1.41-.59l7.78-7.78 2.81-2.81c.8-.78.8-2.07 0-2.86zM5.41 20L4 18.59l7.72-7.72 1.47 1.35L5.41 20z\"/>\n",
              "  </svg>\n",
              "      </button>\n",
              "      \n",
              "  <style>\n",
              "    .colab-df-container {\n",
              "      display:flex;\n",
              "      flex-wrap:wrap;\n",
              "      gap: 12px;\n",
              "    }\n",
              "\n",
              "    .colab-df-convert {\n",
              "      background-color: #E8F0FE;\n",
              "      border: none;\n",
              "      border-radius: 50%;\n",
              "      cursor: pointer;\n",
              "      display: none;\n",
              "      fill: #1967D2;\n",
              "      height: 32px;\n",
              "      padding: 0 0 0 0;\n",
              "      width: 32px;\n",
              "    }\n",
              "\n",
              "    .colab-df-convert:hover {\n",
              "      background-color: #E2EBFA;\n",
              "      box-shadow: 0px 1px 2px rgba(60, 64, 67, 0.3), 0px 1px 3px 1px rgba(60, 64, 67, 0.15);\n",
              "      fill: #174EA6;\n",
              "    }\n",
              "\n",
              "    [theme=dark] .colab-df-convert {\n",
              "      background-color: #3B4455;\n",
              "      fill: #D2E3FC;\n",
              "    }\n",
              "\n",
              "    [theme=dark] .colab-df-convert:hover {\n",
              "      background-color: #434B5C;\n",
              "      box-shadow: 0px 1px 3px 1px rgba(0, 0, 0, 0.15);\n",
              "      filter: drop-shadow(0px 1px 2px rgba(0, 0, 0, 0.3));\n",
              "      fill: #FFFFFF;\n",
              "    }\n",
              "  </style>\n",
              "\n",
              "      <script>\n",
              "        const buttonEl =\n",
              "          document.querySelector('#df-702d39d8-6f64-41e8-88eb-f1cd0c9fabf1 button.colab-df-convert');\n",
              "        buttonEl.style.display =\n",
              "          google.colab.kernel.accessAllowed ? 'block' : 'none';\n",
              "\n",
              "        async function convertToInteractive(key) {\n",
              "          const element = document.querySelector('#df-702d39d8-6f64-41e8-88eb-f1cd0c9fabf1');\n",
              "          const dataTable =\n",
              "            await google.colab.kernel.invokeFunction('convertToInteractive',\n",
              "                                                     [key], {});\n",
              "          if (!dataTable) return;\n",
              "\n",
              "          const docLinkHtml = 'Like what you see? Visit the ' +\n",
              "            '<a target=\"_blank\" href=https://colab.research.google.com/notebooks/data_table.ipynb>data table notebook</a>'\n",
              "            + ' to learn more about interactive tables.';\n",
              "          element.innerHTML = '';\n",
              "          dataTable['output_type'] = 'display_data';\n",
              "          await google.colab.output.renderOutput(dataTable, element);\n",
              "          const docLink = document.createElement('div');\n",
              "          docLink.innerHTML = docLinkHtml;\n",
              "          element.appendChild(docLink);\n",
              "        }\n",
              "      </script>\n",
              "    </div>\n",
              "  </div>\n",
              "  "
            ]
          },
          "metadata": {},
          "execution_count": 95
        }
      ]
    },
    {
      "cell_type": "code",
      "source": [],
      "metadata": {
        "id": "I6K9w31PF5Jl"
      },
      "execution_count": null,
      "outputs": []
    }
  ]
}